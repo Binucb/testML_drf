{
  "nbformat": 4,
  "nbformat_minor": 0,
  "metadata": {
    "colab": {
      "name": "testModel.ipynb",
      "provenance": [],
      "authorship_tag": "ABX9TyPHzFBRi8Y2SAxZW18IUbL+",
      "include_colab_link": true
    },
    "kernelspec": {
      "name": "python3",
      "display_name": "Python 3"
    }
  },
  "cells": [
    {
      "cell_type": "markdown",
      "metadata": {
        "id": "view-in-github",
        "colab_type": "text"
      },
      "source": [
        "<a href=\"https://colab.research.google.com/github/Binucb/testML_drf/blob/master/testModel.ipynb\" target=\"_parent\"><img src=\"https://colab.research.google.com/assets/colab-badge.svg\" alt=\"Open In Colab\"/></a>"
      ]
    },
    {
      "cell_type": "code",
      "metadata": {
        "id": "jvlOLkG9oiRw",
        "colab_type": "code",
        "colab": {}
      },
      "source": [
        "data = [\n",
        "    ['woof', 1],\n",
        "    ['bark', 1],\n",
        "    ['ruff', 1],\n",
        "    ['bowwow', 1],\n",
        "    ['roar', 0],\n",
        "    ['bah', 0],\n",
        "    ['meow', 0],\n",
        "    ['ribbit', 0],\n",
        "    ['moo', 0],\n",
        "    ['yip', 0],\n",
        "    ['pika', 0]\n",
        "]"
      ],
      "execution_count": 0,
      "outputs": []
    },
    {
      "cell_type": "code",
      "metadata": {
        "id": "fAO9QWnXops3",
        "colab_type": "code",
        "colab": {}
      },
      "source": [
        "X = []\n",
        "y = []\n",
        "for i in data:\n",
        "    X.append( i[0] )\n",
        "    y.append( i[1] )"
      ],
      "execution_count": 0,
      "outputs": []
    },
    {
      "cell_type": "code",
      "metadata": {
        "id": "7xXNqMnBo0C8",
        "colab_type": "code",
        "colab": {}
      },
      "source": [
        "from sklearn.feature_extraction.text import CountVectorizer\n",
        "vectorizer = CountVectorizer()\n",
        "X_vectorized = vectorizer.fit_transform(X)"
      ],
      "execution_count": 0,
      "outputs": []
    },
    {
      "cell_type": "code",
      "metadata": {
        "id": "k5L_u624o6ny",
        "colab_type": "code",
        "colab": {
          "base_uri": "https://localhost:8080/",
          "height": 35
        },
        "outputId": "8040a410-76f5-4e89-d1e1-ff3274c4a49f"
      },
      "source": [
        "from sklearn.linear_model import LinearRegression\n",
        "import numpy as np\n",
        "regressor = LinearRegression()\n",
        "regressor.fit(X_vectorized, y)"
      ],
      "execution_count": 5,
      "outputs": [
        {
          "output_type": "execute_result",
          "data": {
            "text/plain": [
              "LinearRegression(copy_X=True, fit_intercept=True, n_jobs=None, normalize=False)"
            ]
          },
          "metadata": {
            "tags": []
          },
          "execution_count": 5
        }
      ]
    },
    {
      "cell_type": "code",
      "metadata": {
        "id": "ajixFUyGpC0B",
        "colab_type": "code",
        "colab": {
          "base_uri": "https://localhost:8080/",
          "height": 69
        },
        "outputId": "1a83b045-c7a6-40cb-a4f6-a29b52c027dd"
      },
      "source": [
        "test_feature = vectorizer.transform(['woof'])\n",
        "prediction = regressor.predict(test_feature)\n",
        "print(prediction)\n",
        "test_feature = vectorizer.transform(['ribbit'])\n",
        "prediction = regressor.predict(test_feature)\n",
        "print(prediction)\n",
        "test_feature = vectorizer.transform(['meoww'])\n",
        "prediction = regressor.predict(test_feature)\n",
        "print(prediction)"
      ],
      "execution_count": 6,
      "outputs": [
        {
          "output_type": "stream",
          "text": [
            "[1.]\n",
            "[0.]\n",
            "[0.36363636]\n"
          ],
          "name": "stdout"
        }
      ]
    },
    {
      "cell_type": "code",
      "metadata": {
        "id": "Q82nrA9_pLhZ",
        "colab_type": "code",
        "colab": {}
      },
      "source": [
        "import pickle\n",
        "pickl = {\n",
        "    'vectorizer': vectorizer,\n",
        "    'regressor': regressor\n",
        "}\n",
        "pickle.dump( pickl, open( 'models' + \".p\", \"wb\" ) )"
      ],
      "execution_count": 0,
      "outputs": []
    }
  ]
}